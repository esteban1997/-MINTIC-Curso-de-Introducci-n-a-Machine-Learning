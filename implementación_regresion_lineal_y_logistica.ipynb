{
  "nbformat": 4,
  "nbformat_minor": 0,
  "metadata": {
    "colab": {
      "name": "implementación regresion lineal y logistica.ipynb",
      "provenance": [],
      "collapsed_sections": [
        "HoaGnxaXrkk-"
      ],
      "include_colab_link": true
    },
    "kernelspec": {
      "name": "python3",
      "display_name": "Python 3"
    }
  },
  "cells": [
    {
      "cell_type": "markdown",
      "metadata": {
        "id": "view-in-github",
        "colab_type": "text"
      },
      "source": [
        "<a href=\"https://colab.research.google.com/github/esteban1997/-MINTIC-Curso-de-Introducci-n-a-Machine-Learning/blob/master/implementaci%C3%B3n_regresion_lineal_y_logistica.ipynb\" target=\"_parent\"><img src=\"https://colab.research.google.com/assets/colab-badge.svg\" alt=\"Open In Colab\"/></a>"
      ]
    },
    {
      "cell_type": "code",
      "metadata": {
        "id": "-DX68MxUq2tX",
        "colab_type": "code",
        "colab": {}
      },
      "source": [
        "import torch\n",
        "import numpy as np\n",
        "import torch.nn as nn\n",
        "import torch.optim as optim \n",
        "\n",
        "import matplotlib.pyplot as plt"
      ],
      "execution_count": 0,
      "outputs": []
    },
    {
      "cell_type": "markdown",
      "metadata": {
        "id": "HoaGnxaXrkk-",
        "colab_type": "text"
      },
      "source": [
        "#Regresion lineal"
      ]
    },
    {
      "cell_type": "code",
      "metadata": {
        "id": "VPFdtEM2rnJF",
        "colab_type": "code",
        "outputId": "ff43a149-1c09-4b76-c947-cde93c867e45",
        "colab": {
          "base_uri": "https://localhost:8080/"
        }
      },
      "source": [
        "car_prices = [5,6,7,8,9,10]\n",
        "units_sold = [8.5,8,7.5,7.0,6.5,6]\n",
        "\n",
        "plt.scatter(car_prices,units_sold)"
      ],
      "execution_count": 0,
      "outputs": [
        {
          "output_type": "execute_result",
          "data": {
            "text/plain": [
              "<matplotlib.collections.PathCollection at 0x7fbef37c50f0>"
            ]
          },
          "metadata": {
            "tags": []
          },
          "execution_count": 4
        },
        {
          "output_type": "display_data",
          "data": {
            "image/png": "[encoded data removed]",
            "text/plain": [
              "<Figure size 432x288 with 1 Axes>"
            ]
          },
          "metadata": {
            "tags": []
          }
        }
      ]
    },
    {
      "cell_type": "code",
      "metadata": {
        "id": "Wpi1ZndVsetD",
        "colab_type": "code",
        "outputId": "8821a947-dd9d-4140-dc83-8d807159b9e6",
        "colab": {
          "base_uri": "https://localhost:8080/"
        }
      },
      "source": [
        "prices_array = np.array(car_prices).reshape(-1,1)\n",
        "units_array = np.array(units_sold).reshape(-1,1)\n",
        "\n",
        "prices_array , units_array"
      ],
      "execution_count": 0,
      "outputs": [
        {
          "output_type": "execute_result",
          "data": {
            "text/plain": [
              "(array([[ 5],\n",
              "        [ 6],\n",
              "        [ 7],\n",
              "        [ 8],\n",
              "        [ 9],\n",
              "        [10]]), array([[8.5],\n",
              "        [8. ],\n",
              "        [7.5],\n",
              "        [7. ],\n",
              "        [6.5],\n",
              "        [6. ]]))"
            ]
          },
          "metadata": {
            "tags": []
          },
          "execution_count": 6
        }
      ]
    },
    {
      "cell_type": "code",
      "metadata": {
        "id": "COGVwDlwt8Eo",
        "colab_type": "code",
        "outputId": "f60ce528-defb-4e47-d25d-2c18ed993676",
        "colab": {
          "base_uri": "https://localhost:8080/"
        }
      },
      "source": [
        "prices = torch.from_numpy(prices_array).float().requires_grad_(True)\n",
        "units = torch.from_numpy(units_array).float()\n",
        "\n",
        "prices, prices.shape "
      ],
      "execution_count": 0,
      "outputs": [
        {
          "output_type": "execute_result",
          "data": {
            "text/plain": [
              "(tensor([[ 5.],\n",
              "         [ 6.],\n",
              "         [ 7.],\n",
              "         [ 8.],\n",
              "         [ 9.],\n",
              "         [10.]], requires_grad=True), torch.Size([6, 1]))"
            ]
          },
          "metadata": {
            "tags": []
          },
          "execution_count": 7
        }
      ]
    },
    {
      "cell_type": "code",
      "metadata": {
        "id": "tkVMbeB4u1DZ",
        "colab_type": "code",
        "outputId": "6398c47c-f1ca-449b-ead6-794f01360537",
        "colab": {
          "base_uri": "https://localhost:8080/"
        }
      },
      "source": [
        "model = nn.Linear(1,1)\n",
        "\n",
        "#media de los cuadrados\n",
        "loss_function = nn.MSELoss()\n",
        "\n",
        "#stocastic gradient descend parametros son los pesos\n",
        "optimizer = optim.SGD(model.parameters(),lr = 0.015)\n",
        "\n",
        "losses = []\n",
        "iterations = 2000\n",
        "\n",
        "for i in range(iterations):\n",
        "  pred = model(prices)\n",
        "  loss = loss_function(pred, units)\n",
        "  losses.append(loss.data)\n",
        "  \n",
        "  #necesito reiniciar gradientes ya que se acumulan \n",
        "  optimizer.zero_grad()\n",
        "  loss.backward()\n",
        "  optimizer.step()\n",
        "  \n",
        "print(loss)\n",
        "plt.plot(range(iterations), losses)"
      ],
      "execution_count": 0,
      "outputs": [
        {
          "output_type": "stream",
          "text": [
            "tensor(0.0160, grad_fn=<MseLossBackward>)\n"
          ],
          "name": "stdout"
        },
        {
          "output_type": "execute_result",
          "data": {
            "text/plain": [
              "[<matplotlib.lines.Line2D at 0x7fbeefe94c88>]"
            ]
          },
          "metadata": {
            "tags": []
          },
          "execution_count": 10
        },
        {
          "output_type": "display_data",
          "data": {
            "image/png": "[encoded data removed]",
            "text/plain": [
              "<Figure size 432x288 with 1 Axes>"
            ]
          },
          "metadata": {
            "tags": []
          }
        }
      ]
    },
    {
      "cell_type": "code",
      "metadata": {
        "id": "jfQ3nBT4yfx_",
        "colab_type": "code",
        "outputId": "db7366f0-ac74-48c7-809a-0303cf9a66cc",
        "colab": {
          "base_uri": "https://localhost:8080/"
        }
      },
      "source": [
        "x = torch.Tensor([[14.0]])\n",
        "p = model(x)\n",
        "p"
      ],
      "execution_count": 0,
      "outputs": [
        {
          "output_type": "execute_result",
          "data": {
            "text/plain": [
              "tensor([[4.4421]], grad_fn=<AddmmBackward>)"
            ]
          },
          "metadata": {
            "tags": []
          },
          "execution_count": 13
        }
      ]
    },
    {
      "cell_type": "markdown",
      "metadata": {
        "id": "yDbKVxSR1SXr",
        "colab_type": "text"
      },
      "source": [
        "#Regesion logistica"
      ]
    },
    {
      "cell_type": "code",
      "metadata": {
        "id": "nHl7HOdF1WA1",
        "colab_type": "code",
        "outputId": "b81cfd91-f8dc-4da7-a793-7a3dc9ae76b7",
        "colab": {
          "base_uri": "https://localhost:8080/",
          "height": 1000
        }
      },
      "source": [
        "n = 100\n",
        "h = n//2\n",
        "dimen = 2\n",
        "\n",
        "data = np.random.randn(n, dimen)*3\n",
        "data"
      ],
      "execution_count": 0,
      "outputs": [
        {
          "output_type": "execute_result",
          "data": {
            "text/plain": [
              "array([[-2.47591188,  3.00711692],\n",
              "       [-1.9936671 ,  1.18162627],\n",
              "       [ 1.11265472,  1.03588205],\n",
              "       [-2.43076266, -1.745708  ],\n",
              "       [-4.5998501 ,  1.86754382],\n",
              "       [ 0.46939029,  4.19417443],\n",
              "       [-0.8806853 , -1.58083244],\n",
              "       [ 3.88325899, -0.78171662],\n",
              "       [ 3.94989025,  4.81197613],\n",
              "       [ 0.02832219, -2.71881107],\n",
              "       [ 4.14048732,  1.67460205],\n",
              "       [-1.2404425 ,  0.58982947],\n",
              "       [-1.9064313 ,  3.37534679],\n",
              "       [ 5.60653835,  3.18485699],\n",
              "       [ 0.87921631, -1.71404566],\n",
              "       [ 1.32899879,  3.24693562],\n",
              "       [-0.57653713, -2.93047747],\n",
              "       [-3.34848006, -0.23342774],\n",
              "       [-0.08982963, -4.15342106],\n",
              "       [-2.83558867, -3.15073212],\n",
              "       [-2.22880302, -0.19613189],\n",
              "       [-4.94600686,  1.27888872],\n",
              "       [ 3.09836354, -3.20351028],\n",
              "       [-0.98476662,  7.05113928],\n",
              "       [-1.88171138,  3.1474739 ],\n",
              "       [-1.14670789,  0.35250616],\n",
              "       [-1.88612903,  1.35631309],\n",
              "       [-2.90405026,  6.23055677],\n",
              "       [-0.25715572,  6.07420484],\n",
              "       [ 1.10922394, -0.75348879],\n",
              "       [ 4.53840087, -0.6820981 ],\n",
              "       [-0.5861684 ,  1.73597929],\n",
              "       [-1.58770286, -2.39330386],\n",
              "       [ 2.79671955,  0.96146685],\n",
              "       [ 1.83097945,  0.09527322],\n",
              "       [-2.87389663, -0.04526764],\n",
              "       [ 4.62436219,  1.99203874],\n",
              "       [-4.94557991, -3.41401415],\n",
              "       [-2.45679382, -3.17042239],\n",
              "       [-0.02802345,  0.72044747],\n",
              "       [-4.88087296, -3.69851594],\n",
              "       [ 0.33468347,  0.6799047 ],\n",
              "       [-2.15406139,  3.466746  ],\n",
              "       [ 2.43833711, -0.23308083],\n",
              "       [-3.68764007,  6.39436228],\n",
              "       [ 1.56898951,  2.3801724 ],\n",
              "       [ 2.65390285,  1.9262772 ],\n",
              "       [ 0.87470312, -0.61976869],\n",
              "       [ 1.1829555 , -3.58448638],\n",
              "       [ 0.79054464,  1.98339159],\n",
              "       [-2.73009471,  1.48665613],\n",
              "       [ 0.69920769,  6.523568  ],\n",
              "       [ 1.53462127,  3.54061423],\n",
              "       [-2.65331877, -5.43263251],\n",
              "       [ 3.13589738,  1.21112822],\n",
              "       [ 1.68096038, -3.03180776],\n",
              "       [ 5.92693777, -3.45893306],\n",
              "       [ 4.56793274,  1.83695361],\n",
              "       [-0.04010551, -5.40671571],\n",
              "       [-0.74424663,  4.85232688],\n",
              "       [-2.17144877,  4.57174395],\n",
              "       [ 2.68085256, -6.87794873],\n",
              "       [-0.96078014, -2.93232809],\n",
              "       [-1.60246981, -0.51493011],\n",
              "       [ 3.74931847, -1.77541492],\n",
              "       [-0.15754963,  1.20862797],\n",
              "       [ 2.62844193,  5.17809529],\n",
              "       [-1.52880913, -1.87808021],\n",
              "       [ 3.21445383,  2.3327138 ],\n",
              "       [ 2.84429217, -0.29409646],\n",
              "       [-0.42340521, -1.42964361],\n",
              "       [ 0.92639419, -0.68486715],\n",
              "       [-0.63465942,  3.41769417],\n",
              "       [ 1.36760065,  1.30245165],\n",
              "       [-0.20642114, -6.39424125],\n",
              "       [ 1.69033221,  1.41586151],\n",
              "       [ 2.46066504,  2.54645768],\n",
              "       [-2.13883281,  2.59035031],\n",
              "       [ 0.89058659,  1.56962406],\n",
              "       [ 4.34175296,  2.50145724],\n",
              "       [-1.9493357 ,  0.63691274],\n",
              "       [ 5.01773889,  2.63883138],\n",
              "       [ 1.06300883, -0.05647204],\n",
              "       [-4.72347505,  1.81157104],\n",
              "       [ 0.7192298 ,  0.11536679],\n",
              "       [ 2.81829759,  1.34270387],\n",
              "       [ 1.4189834 ,  1.93576392],\n",
              "       [ 0.42608401, -7.02086663],\n",
              "       [ 4.46774959,  3.24369687],\n",
              "       [-3.15909836,  2.00347394],\n",
              "       [ 2.46978114, -2.19802584],\n",
              "       [ 2.05165858,  5.54173199],\n",
              "       [ 4.78477564,  0.20247464],\n",
              "       [-1.63191781, -0.5260561 ],\n",
              "       [ 3.24279556, -1.05193122],\n",
              "       [ 0.97764391, -0.38538781],\n",
              "       [ 1.41117753,  3.94088446],\n",
              "       [-1.1632193 ,  2.49395577],\n",
              "       [ 3.86981962, -1.84251437],\n",
              "       [ 0.50666691,  3.34908729]])"
            ]
          },
          "metadata": {
            "tags": []
          },
          "execution_count": 35
        }
      ]
    },
    {
      "cell_type": "code",
      "metadata": {
        "id": "neNc2Ee22LbC",
        "colab_type": "code",
        "outputId": "41d6bf10-b87c-4201-acc1-4511261c75eb",
        "colab": {
          "base_uri": "https://localhost:8080/",
          "height": 286
        }
      },
      "source": [
        "plt.scatter(data[:,0], data[:,1])"
      ],
      "execution_count": 0,
      "outputs": [
        {
          "output_type": "execute_result",
          "data": {
            "text/plain": [
              "<matplotlib.collections.PathCollection at 0x7fbeefc0e278>"
            ]
          },
          "metadata": {
            "tags": []
          },
          "execution_count": 36
        },
        {
          "output_type": "display_data",
          "data": {
            "image/png": "[encoded data removed]",
            "text/plain": [
              "<Figure size 432x288 with 1 Axes>"
            ]
          },
          "metadata": {
            "tags": []
          }
        }
      ]
    },
    {
      "cell_type": "code",
      "metadata": {
        "id": "lRa1eQoE3H3Z",
        "colab_type": "code",
        "colab": {}
      },
      "source": [
        "data[:h, :]= data[:h, :] - 3*np.ones((h, dimen))"
      ],
      "execution_count": 0,
      "outputs": []
    },
    {
      "cell_type": "code",
      "metadata": {
        "id": "9VB5R9K84iU0",
        "colab_type": "code",
        "colab": {}
      },
      "source": [
        "data[h:, :]= data[h:, :] + 3*np.ones((h, dimen))"
      ],
      "execution_count": 0,
      "outputs": []
    },
    {
      "cell_type": "code",
      "metadata": {
        "id": "XnqdKs775wq6",
        "colab_type": "code",
        "outputId": "b6fbefa7-857e-4ed7-e82a-23db48dbf60c",
        "colab": {
          "base_uri": "https://localhost:8080/",
          "height": 286
        }
      },
      "source": [
        "colors = ['blue','red']\n",
        "\n",
        "color = np.array([colors[0]]*h + [colors[1]]*h).reshape(n)\n",
        "\n",
        "plt.scatter(data[:,0], data[:,1], c = color, s=75, alpha=0.6)"
      ],
      "execution_count": 0,
      "outputs": [
        {
          "output_type": "execute_result",
          "data": {
            "text/plain": [
              "<matplotlib.collections.PathCollection at 0x7fbeef944eb8>"
            ]
          },
          "metadata": {
            "tags": []
          },
          "execution_count": 42
        },
        {
          "output_type": "display_data",
          "data": {
            "image/png": "[encoded data removed]",
            "text/plain": [
              "<Figure size 432x288 with 1 Axes>"
            ]
          },
          "metadata": {
            "tags": []
          }
        }
      ]
    },
    {
      "cell_type": "code",
      "metadata": {
        "id": "lHhjzlyZ8tPy",
        "colab_type": "code",
        "outputId": "4c2b8a61-d17f-4210-f433-f9719ccc7d71",
        "colab": {
          "base_uri": "https://localhost:8080/",
          "height": 34
        }
      },
      "source": [
        "target = np.array([0]*h + [1]*h).reshape(n,1 )\n",
        "\n",
        "x = torch.from_numpy(data).float().requires_grad_(True)\n",
        "\n",
        "y = torch.from_numpy(target).float()\n",
        "\n",
        "x.shape, y.shape"
      ],
      "execution_count": 0,
      "outputs": [
        {
          "output_type": "execute_result",
          "data": {
            "text/plain": [
              "(torch.Size([100, 2]), torch.Size([100, 1]))"
            ]
          },
          "metadata": {
            "tags": []
          },
          "execution_count": 44
        }
      ]
    },
    {
      "cell_type": "code",
      "metadata": {
        "id": "73A6IXVR-uC4",
        "colab_type": "code",
        "outputId": "e0dd97e3-5900-40f3-d971-cab3757706a4",
        "colab": {
          "base_uri": "https://localhost:8080/",
          "height": 286
        }
      },
      "source": [
        "model = nn.Sequential(nn.Linear(2,1), nn.Sigmoid())\n",
        "\n",
        "loss_function = nn.BCELoss()\n",
        "\n",
        "optimizer = optim.SGD(model.parameters(),lr = 0.01)\n",
        "\n",
        "losses = []\n",
        "\n",
        "iterations = 1000\n",
        "\n",
        "for i in range(iterations):\n",
        "  result = model(x)\n",
        "  \n",
        "  loss = loss_function(result, y)\n",
        "  losses.append(loss.data)\n",
        "  \n",
        "  optimizer.zero_grad()\n",
        "  loss.backward()\n",
        "  \n",
        "  optimizer.step()\n",
        "  \n",
        "plt.plot(range(iterations),losses)\n",
        "loss"
      ],
      "execution_count": 0,
      "outputs": [
        {
          "output_type": "execute_result",
          "data": {
            "text/plain": [
              "tensor(0.1174, grad_fn=<BinaryCrossEntropyBackward>)"
            ]
          },
          "metadata": {
            "tags": []
          },
          "execution_count": 47
        },
        {
          "output_type": "display_data",
          "data": {
            "image/png": "[encoded data removed]",
            "text/plain": [
              "<Figure size 432x288 with 1 Axes>"
            ]
          },
          "metadata": {
            "tags": []
          }
        }
      ]
    },
    {
      "cell_type": "code",
      "metadata": {
        "id": "BExqwjUWAr86",
        "colab_type": "code",
        "outputId": "b15c8614-6f6d-4fa3-d836-024f7cbf7c0b",
        "colab": {
          "base_uri": "https://localhost:8080/",
          "height": 51
        }
      },
      "source": [
        "blue = torch.Tensor([[-5, -6]])\n",
        "prediction = model(blue).data[0][0] > 0.5\n",
        "print(colors[prediction])\n",
        "\n",
        "red = torch.Tensor([[-5, -6]])\n",
        "prediction = model(red).data[0][0] < 0.5\n",
        "print(colors[prediction])"
      ],
      "execution_count": 0,
      "outputs": [
        {
          "output_type": "stream",
          "text": [
            "blue\n",
            "red\n"
          ],
          "name": "stdout"
        }
      ]
    }
  ]
}