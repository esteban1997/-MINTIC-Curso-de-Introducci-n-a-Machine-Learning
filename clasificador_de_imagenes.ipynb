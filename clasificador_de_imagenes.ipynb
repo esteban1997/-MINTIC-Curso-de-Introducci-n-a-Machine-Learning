{
  "nbformat": 4,
  "nbformat_minor": 0,
  "metadata": {
    "colab": {
      "name": "clasificador de imagenes.ipynb",
      "provenance": [],
      "collapsed_sections": [],
      "include_colab_link": true
    },
    "kernelspec": {
      "name": "python3",
      "display_name": "Python 3"
    }
  },
  "cells": [
    {
      "cell_type": "markdown",
      "metadata": {
        "id": "view-in-github",
        "colab_type": "text"
      },
      "source": [
        "<a href=\"https://colab.research.google.com/github/esteban1997/-MINTIC-Curso-de-Introducci-n-a-Machine-Learning/blob/master/clasificador_de_imagenes.ipynb\" target=\"_parent\"><img src=\"https://colab.research.google.com/assets/colab-badge.svg\" alt=\"Open In Colab\"/></a>"
      ]
    },
    {
      "cell_type": "code",
      "metadata": {
        "id": "ulovGPhj-tMC",
        "colab_type": "code",
        "colab": {}
      },
      "source": [
        "import torch\n",
        "import torch.nn as nn\n",
        "import torch.optim as optim\n",
        "\n",
        "from torchvision import utils\n",
        "from torchvision import datasets\n",
        "from torchvision import transforms\n",
        "\n",
        "from PIL import Image\n",
        "import urllib.request as request\n",
        "from matplotlib import pyplot as plt\n"
      ],
      "execution_count": 0,
      "outputs": []
    },
    {
      "cell_type": "markdown",
      "metadata": {
        "id": "_8QIjDB7-_S1",
        "colab_type": "text"
      },
      "source": [
        "#Construyendo un modelo"
      ]
    },
    {
      "cell_type": "code",
      "metadata": {
        "id": "NF3I8qK6--fW",
        "colab_type": "code",
        "colab": {}
      },
      "source": [
        "data_path = 'data/'\n",
        "transform = transforms.Compose(\n",
        "              [transforms.ToTensor(),\n",
        "               transforms.Normalize((0.4915, 0.4823, 0.4468), \n",
        "                                    (0.2470, 0.2435, 0.2616))\n",
        "              ])"
      ],
      "execution_count": 0,
      "outputs": []
    },
    {
      "cell_type": "code",
      "metadata": {
        "id": "9t5Ciq5B_IL8",
        "colab_type": "code",
        "outputId": "d677d0d2-7b7a-4ffb-fe7b-66eaf614f4a4",
        "colab": {
          "base_uri": "https://localhost:8080/",
          "height": 105
        }
      },
      "source": [
        "full_data_set = datasets.CIFAR10(\n",
        "    data_path,\n",
        "    train=True,\n",
        "    download=True, \n",
        "    transform = transform)\n",
        "\n",
        "full_validation_set = datasets.CIFAR10(\n",
        "    data_path,\n",
        "    train=False,\n",
        "    download=True, \n",
        "    transform = transform)"
      ],
      "execution_count": 3,
      "outputs": [
        {
          "output_type": "stream",
          "text": [
            "\r0it [00:00, ?it/s]"
          ],
          "name": "stderr"
        },
        {
          "output_type": "stream",
          "text": [
            "Downloading https://www.cs.toronto.edu/~kriz/cifar-10-python.tar.gz to data/cifar-10-python.tar.gz\n"
          ],
          "name": "stdout"
        },
        {
          "output_type": "stream",
          "text": [
            "170500096it [00:02, 69132377.69it/s]                               \n"
          ],
          "name": "stderr"
        },
        {
          "output_type": "stream",
          "text": [
            "Extracting data/cifar-10-python.tar.gz to data/\n",
            "Files already downloaded and verified\n"
          ],
          "name": "stdout"
        }
      ]
    },
    {
      "cell_type": "code",
      "metadata": {
        "id": "n3PMt7jD_j_b",
        "colab_type": "code",
        "colab": {}
      },
      "source": [
        "size = 4\n",
        "dataloader = torch.utils.data.DataLoader(\n",
        "    full_data_set,\n",
        "    batch_size = size, \n",
        "    shuffle=True,\n",
        "    num_workers = 2\n",
        ")\n",
        "\n"
      ],
      "execution_count": 0,
      "outputs": []
    },
    {
      "cell_type": "code",
      "metadata": {
        "id": "rs39Vy80_2BZ",
        "colab_type": "code",
        "outputId": "83d69ff2-922e-4608-8717-bea5207c4854",
        "colab": {
          "base_uri": "https://localhost:8080/",
          "height": 34
        }
      },
      "source": [
        "len(full_data_set)"
      ],
      "execution_count": 5,
      "outputs": [
        {
          "output_type": "execute_result",
          "data": {
            "text/plain": [
              "50000"
            ]
          },
          "metadata": {
            "tags": []
          },
          "execution_count": 5
        }
      ]
    },
    {
      "cell_type": "code",
      "metadata": {
        "id": "ueGWC53N_7pM",
        "colab_type": "code",
        "outputId": "9c3f1421-59ee-4bfa-989b-12b85acb5139",
        "colab": {
          "base_uri": "https://localhost:8080/",
          "height": 244
        }
      },
      "source": [
        "data_iterator = iter(dataloader)\n",
        "imgs,labels = data_iterator.next()\n",
        "\n",
        "classes = ['plane','car','bird','cat','deer','dog','frog','horse','ship','truck']\n",
        "\n",
        "plt.imshow(utils.make_grid(imgs).permute(1,2,0))\n",
        "\n",
        "for i in range(size):\n",
        "  print(classes[labels[i]])\n",
        "  \n"
      ],
      "execution_count": 6,
      "outputs": [
        {
          "output_type": "stream",
          "text": [
            "Clipping input data to the valid range for imshow with RGB data ([0..1] for floats or [0..255] for integers).\n"
          ],
          "name": "stderr"
        },
        {
          "output_type": "stream",
          "text": [
            "frog\n",
            "car\n",
            "ship\n",
            "ship\n"
          ],
          "name": "stdout"
        },
        {
          "output_type": "display_data",
          "data": {
            "image/png": "[encoded data removed]",
            "text/plain": [
              "<Figure size 432x288 with 1 Axes>"
            ]
          },
          "metadata": {
            "tags": []
          }
        }
      ]
    },
    {
      "cell_type": "code",
      "metadata": {
        "id": "zlMSL96PCaLB",
        "colab_type": "code",
        "colab": {}
      },
      "source": [
        "class_names=['car','cat']\n",
        "\n",
        "#X:Y X= cual tomare, Y= donde quedara\n",
        "label_map = {1:0,3:1}\n",
        "\n",
        "\n",
        "data_set = [(img,label_map[label]) for img, label in full_data_set if label in [1,3]]\n",
        "validation_set = [(img,label_map[label]) for img, label in full_validation_set if label in [1,3]]"
      ],
      "execution_count": 0,
      "outputs": []
    },
    {
      "cell_type": "code",
      "metadata": {
        "id": "mY1t3GXmCaCy",
        "colab_type": "code",
        "outputId": "9e708b66-25cc-4bbd-ae12-5dd067ae21ee",
        "colab": {
          "base_uri": "https://localhost:8080/",
          "height": 34
        }
      },
      "source": [
        "img,label = data_set[20]\n",
        "img.shape"
      ],
      "execution_count": 8,
      "outputs": [
        {
          "output_type": "execute_result",
          "data": {
            "text/plain": [
              "torch.Size([3, 32, 32])"
            ]
          },
          "metadata": {
            "tags": []
          },
          "execution_count": 8
        }
      ]
    },
    {
      "cell_type": "code",
      "metadata": {
        "id": "h-l5Y_h1GTsj",
        "colab_type": "code",
        "colab": {}
      },
      "source": [
        "model = nn.Sequential(\n",
        "          #\n",
        "          nn.Linear(3*32*32,512),\n",
        "          nn.Tanh(),\n",
        "          #512 son los pasos y el 2 es porque es un clasificador ibnari oasi que tiene 2 opciones\n",
        "          nn.Linear(512,2)\n",
        ")"
      ],
      "execution_count": 0,
      "outputs": []
    },
    {
      "cell_type": "code",
      "metadata": {
        "id": "9yzu-vmNGueL",
        "colab_type": "code",
        "colab": {}
      },
      "source": [
        "\n",
        "def softmax(x):\n",
        "  return torch.exp(x) / torch.exp(x).sum()"
      ],
      "execution_count": 0,
      "outputs": []
    },
    {
      "cell_type": "code",
      "metadata": {
        "id": "ej53CqwlG9Zu",
        "colab_type": "code",
        "colab": {}
      },
      "source": [
        "x = torch.tensor([1.0,2.0,3.0])"
      ],
      "execution_count": 0,
      "outputs": []
    },
    {
      "cell_type": "code",
      "metadata": {
        "id": "fUKv38IlIlkH",
        "colab_type": "code",
        "outputId": "aed9386b-b1d8-4b06-907a-c18b49e0513c",
        "colab": {
          "base_uri": "https://localhost:8080/",
          "height": 34
        }
      },
      "source": [
        "softmax(x).sum()"
      ],
      "execution_count": 12,
      "outputs": [
        {
          "output_type": "execute_result",
          "data": {
            "text/plain": [
              "tensor(1.)"
            ]
          },
          "metadata": {
            "tags": []
          },
          "execution_count": 12
        }
      ]
    },
    {
      "cell_type": "code",
      "metadata": {
        "id": "-ldG5w_rIt5o",
        "colab_type": "code",
        "colab": {}
      },
      "source": [
        "#aqui esty armando la red neuronal, cada nn.linear y nn.tanh es una capa + el tipo de funcion\n",
        "\n",
        "model = nn.Sequential(\n",
        "          #\n",
        "          nn.Linear(3*32*32,512),\n",
        "          nn.Tanh(),\n",
        "          #512 son los intermedios y el 2 es porque es un clasificador binario asi que tiene 2 opciones al final\n",
        "          nn.Linear(512,2),\n",
        "          #dim en que dimension quiero trabajar\n",
        "          nn.Softmax(dim=1)\n",
        ")"
      ],
      "execution_count": 0,
      "outputs": []
    },
    {
      "cell_type": "code",
      "metadata": {
        "id": "Euu3QLcSI6b0",
        "colab_type": "code",
        "outputId": "94e0ca43-2f52-4dba-d925-c0b9309ea7eb",
        "colab": {
          "base_uri": "https://localhost:8080/",
          "height": 323
        }
      },
      "source": [
        "img, label = data_set[20]\n",
        "plt.imshow(img.permute(1,2,0))\n",
        "class_names[label]"
      ],
      "execution_count": 14,
      "outputs": [
        {
          "output_type": "stream",
          "text": [
            "Clipping input data to the valid range for imshow with RGB data ([0..1] for floats or [0..255] for integers).\n"
          ],
          "name": "stderr"
        },
        {
          "output_type": "execute_result",
          "data": {
            "text/plain": [
              "'car'"
            ]
          },
          "metadata": {
            "tags": []
          },
          "execution_count": 14
        },
        {
          "output_type": "display_data",
          "data": {
            "image/png": "[encoded data removed]",
            "text/plain": [
              "<Figure size 432x288 with 1 Axes>"
            ]
          },
          "metadata": {
            "tags": []
          }
        }
      ]
    },
    {
      "cell_type": "code",
      "metadata": {
        "id": "I3NF2FJPJp30",
        "colab_type": "code",
        "outputId": "96e0677b-8475-442c-e866-30719834b3d7",
        "colab": {
          "base_uri": "https://localhost:8080/",
          "height": 34
        }
      },
      "source": [
        "out = model(img.view(-1).unsqueeze(0))\n",
        "out"
      ],
      "execution_count": 15,
      "outputs": [
        {
          "output_type": "execute_result",
          "data": {
            "text/plain": [
              "tensor([[0.5606, 0.4394]], grad_fn=<SoftmaxBackward>)"
            ]
          },
          "metadata": {
            "tags": []
          },
          "execution_count": 15
        }
      ]
    },
    {
      "cell_type": "code",
      "metadata": {
        "id": "pyPoUprDJyMD",
        "colab_type": "code",
        "colab": {}
      },
      "source": [
        "_, index = torch.max(out,dim=1)"
      ],
      "execution_count": 0,
      "outputs": []
    },
    {
      "cell_type": "code",
      "metadata": {
        "id": "ZST4g7gtKSe_",
        "colab_type": "code",
        "outputId": "ef064e59-fe20-4db9-a5da-38da6a3f40a7",
        "colab": {
          "base_uri": "https://localhost:8080/",
          "height": 34
        }
      },
      "source": [
        "print('->', class_names[label],' model:',class_names[index])"
      ],
      "execution_count": 17,
      "outputs": [
        {
          "output_type": "stream",
          "text": [
            "-> car  model: car\n"
          ],
          "name": "stdout"
        }
      ]
    },
    {
      "cell_type": "markdown",
      "metadata": {
        "id": "D1Gxw8YrKx9r",
        "colab_type": "text"
      },
      "source": [
        "#Implementando  un clasificador totalmente conectado"
      ]
    },
    {
      "cell_type": "code",
      "metadata": {
        "id": "-mqc5oYsK-Bt",
        "colab_type": "code",
        "colab": {}
      },
      "source": [
        "model = nn.Sequential(\n",
        "          #\n",
        "          nn.Linear(3*32*32,512),\n",
        "          nn.Tanh(),\n",
        "          #512 son los pasos y el 2 es porque es un clasificador binario asi que tiene 2 opciones\n",
        "          nn.Linear(512,2),\n",
        "          #dim en que dimension quiero trabajar\n",
        "          nn.LogSoftmax(dim=1)\n",
        ")\n",
        "\n",
        "loss_function = nn.NLLLoss"
      ],
      "execution_count": 0,
      "outputs": []
    },
    {
      "cell_type": "code",
      "metadata": {
        "id": "3jkr1k80LnIm",
        "colab_type": "code",
        "colab": {}
      },
      "source": [
        "img , label = data_set[20]"
      ],
      "execution_count": 0,
      "outputs": []
    },
    {
      "cell_type": "code",
      "metadata": {
        "id": "JTT_fwPHLBUR",
        "colab_type": "code",
        "outputId": "5d360040-3b26-4d1e-c963-7242f168460a",
        "colab": {
          "base_uri": "https://localhost:8080/",
          "height": 323
        }
      },
      "source": [
        "img, label = data_set[20]\n",
        "plt.imshow(img.permute(1,2,0))\n",
        "class_names[label]\n"
      ],
      "execution_count": 20,
      "outputs": [
        {
          "output_type": "stream",
          "text": [
            "Clipping input data to the valid range for imshow with RGB data ([0..1] for floats or [0..255] for integers).\n"
          ],
          "name": "stderr"
        },
        {
          "output_type": "execute_result",
          "data": {
            "text/plain": [
              "'car'"
            ]
          },
          "metadata": {
            "tags": []
          },
          "execution_count": 20
        },
        {
          "output_type": "display_data",
          "data": {
            "image/png": "[encoded data removed]",
            "text/plain": [
              "<Figure size 432x288 with 1 Axes>"
            ]
          },
          "metadata": {
            "tags": []
          }
        }
      ]
    },
    {
      "cell_type": "code",
      "metadata": {
        "id": "SO3MBjpAMHFx",
        "colab_type": "code",
        "outputId": "be2df2e7-8946-45de-a822-6186fe5ceefc",
        "colab": {
          "base_uri": "https://localhost:8080/",
          "height": 51
        }
      },
      "source": [
        "out = model(img.view(-1).unsqueeze(0))\n",
        "print(out)\n",
        "\n",
        "print('->', class_names[label],' model:',class_names[index])"
      ],
      "execution_count": 21,
      "outputs": [
        {
          "output_type": "stream",
          "text": [
            "tensor([[-0.8435, -0.5624]], grad_fn=<LogSoftmaxBackward>)\n",
            "-> car  model: car\n"
          ],
          "name": "stdout"
        }
      ]
    },
    {
      "cell_type": "code",
      "metadata": {
        "id": "MxzcjToyM1vJ",
        "colab_type": "code",
        "outputId": "0c98f7d1-4d60-42e9-d59a-9bfb5f7cded9",
        "colab": {
          "base_uri": "https://localhost:8080/",
          "height": 102
        }
      },
      "source": [
        "model = nn.Sequential(\n",
        "          #\n",
        "          nn.Linear(3*32*32,512),\n",
        "          nn.Tanh(),\n",
        "          #512 son los pasos y el 2 es porque es un clasificador ibnari oasi que tiene 2 opciones\n",
        "          nn.Linear(512,2),\n",
        "          #dim en que dimension quiero trabajar\n",
        "          nn.LogSoftmax(dim=1)\n",
        ")\n",
        "\n",
        "loss_function = nn.NLLLoss()\n",
        "\n",
        "#como se calculan los gradientes para minimizar el loss\n",
        "optimizer = optim.SGD(model.parameters(), lr = 0.01)\n",
        "\n",
        "n_epochs = 5\n",
        "\n",
        "for epoch in range(n_epochs):\n",
        "  for img,label in  data_set:\n",
        "    out= model(img.view(-1).unsqueeze(0)) \n",
        "    loss = loss_function(out, torch.tensor([label]))\n",
        "    \n",
        "    optimizer.zero_grad()\n",
        "    loss.backward()\n",
        "    optimizer.step()\n",
        "    \n",
        "  print(\"Epoch: %d, Loss:%f\" % (epoch,float(loss)))"
      ],
      "execution_count": 22,
      "outputs": [
        {
          "output_type": "stream",
          "text": [
            "Epoch: 0, Loss:0.032476\n",
            "Epoch: 1, Loss:0.006231\n",
            "Epoch: 2, Loss:0.046760\n",
            "Epoch: 3, Loss:0.398408\n",
            "Epoch: 4, Loss:0.041787\n"
          ],
          "name": "stdout"
        }
      ]
    },
    {
      "cell_type": "code",
      "metadata": {
        "id": "fVRB7fcbSNER",
        "colab_type": "code",
        "colab": {
          "base_uri": "https://localhost:8080/",
          "height": 1000
        },
        "outputId": "2b7cf817-632e-4e0b-e81a-4908799942af"
      },
      "source": [
        "#hace que sea mas rapido\n",
        "train_loader = torch.utils.data.DataLoader(data_set,batch_size=64,shuffle=True)\n",
        "\n",
        "model = nn.Sequential(\n",
        "          #\n",
        "          nn.Linear(3*32*32,512),\n",
        "          nn.Tanh(),\n",
        "          #512 son los pasos y el 2 es porque es un clasificador ibnari oasi que tiene 2 opciones\n",
        "          nn.Linear(512,2),\n",
        "          #dim en que dimension quiero trabajar\n",
        "          nn.LogSoftmax(dim=1)\n",
        ")\n",
        "\n",
        "loss_function = nn.NLLLoss()\n",
        "\n",
        "#como se calculan los gradientes para minimizar el loss\n",
        "optimizer = optim.SGD(model.parameters(), lr = 0.01)\n",
        "\n",
        "n_epochs = 100\n",
        "\n",
        "for epoch in range(n_epochs):\n",
        "  for img,label in  train_loader:\n",
        "    out= model(img.view(img.shape[0],-1)) \n",
        "    loss = loss_function(out, label)\n",
        "    \n",
        "    optimizer.zero_grad()\n",
        "    loss.backward()\n",
        "    optimizer.step()\n",
        "    \n",
        "  print(\"Epoch: %d, Loss:%f\" % (epoch,float(loss)))"
      ],
      "execution_count": 23,
      "outputs": [
        {
          "output_type": "stream",
          "text": [
            "Epoch: 0, Loss:0.314988\n",
            "Epoch: 1, Loss:0.589196\n",
            "Epoch: 2, Loss:0.554606\n",
            "Epoch: 3, Loss:0.323003\n",
            "Epoch: 4, Loss:0.182925\n",
            "Epoch: 5, Loss:0.524368\n",
            "Epoch: 6, Loss:0.223683\n",
            "Epoch: 7, Loss:0.397317\n",
            "Epoch: 8, Loss:0.461827\n",
            "Epoch: 9, Loss:0.250301\n",
            "Epoch: 10, Loss:0.165186\n",
            "Epoch: 11, Loss:0.237585\n",
            "Epoch: 12, Loss:0.141435\n",
            "Epoch: 13, Loss:0.243064\n",
            "Epoch: 14, Loss:0.504071\n",
            "Epoch: 15, Loss:0.144327\n",
            "Epoch: 16, Loss:0.216915\n",
            "Epoch: 17, Loss:0.195731\n",
            "Epoch: 18, Loss:0.374422\n",
            "Epoch: 19, Loss:0.305740\n",
            "Epoch: 20, Loss:0.234662\n",
            "Epoch: 21, Loss:0.210033\n",
            "Epoch: 22, Loss:0.211994\n",
            "Epoch: 23, Loss:0.104457\n",
            "Epoch: 24, Loss:0.067588\n",
            "Epoch: 25, Loss:0.155233\n",
            "Epoch: 26, Loss:0.056506\n",
            "Epoch: 27, Loss:0.103042\n",
            "Epoch: 28, Loss:0.057828\n",
            "Epoch: 29, Loss:0.073659\n",
            "Epoch: 30, Loss:0.083342\n",
            "Epoch: 31, Loss:0.167866\n",
            "Epoch: 32, Loss:0.061074\n",
            "Epoch: 33, Loss:0.086802\n",
            "Epoch: 34, Loss:0.071504\n",
            "Epoch: 35, Loss:0.027419\n",
            "Epoch: 36, Loss:0.034443\n",
            "Epoch: 37, Loss:0.078953\n",
            "Epoch: 38, Loss:0.046927\n",
            "Epoch: 39, Loss:0.076427\n",
            "Epoch: 40, Loss:0.037381\n",
            "Epoch: 41, Loss:0.035379\n",
            "Epoch: 42, Loss:0.053261\n",
            "Epoch: 43, Loss:0.020911\n",
            "Epoch: 44, Loss:0.027279\n",
            "Epoch: 45, Loss:0.066626\n",
            "Epoch: 46, Loss:0.053524\n",
            "Epoch: 47, Loss:0.013549\n",
            "Epoch: 48, Loss:0.017720\n",
            "Epoch: 49, Loss:0.027229\n",
            "Epoch: 50, Loss:0.029047\n",
            "Epoch: 51, Loss:0.007151\n",
            "Epoch: 52, Loss:0.032071\n",
            "Epoch: 53, Loss:0.025561\n",
            "Epoch: 54, Loss:0.014469\n",
            "Epoch: 55, Loss:0.017091\n",
            "Epoch: 56, Loss:0.012225\n",
            "Epoch: 57, Loss:0.032586\n",
            "Epoch: 58, Loss:0.031257\n",
            "Epoch: 59, Loss:0.013139\n",
            "Epoch: 60, Loss:0.022526\n",
            "Epoch: 61, Loss:0.020374\n",
            "Epoch: 62, Loss:0.015790\n",
            "Epoch: 63, Loss:0.015941\n",
            "Epoch: 64, Loss:0.019538\n",
            "Epoch: 65, Loss:0.014338\n",
            "Epoch: 66, Loss:0.007633\n",
            "Epoch: 67, Loss:0.015311\n",
            "Epoch: 68, Loss:0.009808\n",
            "Epoch: 69, Loss:0.015382\n",
            "Epoch: 70, Loss:0.011007\n",
            "Epoch: 71, Loss:0.014200\n",
            "Epoch: 72, Loss:0.009357\n",
            "Epoch: 73, Loss:0.004501\n",
            "Epoch: 74, Loss:0.006883\n",
            "Epoch: 75, Loss:0.018647\n",
            "Epoch: 76, Loss:0.013326\n",
            "Epoch: 77, Loss:0.005104\n",
            "Epoch: 78, Loss:0.007647\n",
            "Epoch: 79, Loss:0.010396\n",
            "Epoch: 80, Loss:0.007460\n",
            "Epoch: 81, Loss:0.007762\n",
            "Epoch: 82, Loss:0.013481\n",
            "Epoch: 83, Loss:0.015831\n",
            "Epoch: 84, Loss:0.006537\n",
            "Epoch: 85, Loss:0.008834\n",
            "Epoch: 86, Loss:0.008361\n",
            "Epoch: 87, Loss:0.005991\n",
            "Epoch: 88, Loss:0.004015\n",
            "Epoch: 89, Loss:0.020627\n",
            "Epoch: 90, Loss:0.013357\n",
            "Epoch: 91, Loss:0.015347\n",
            "Epoch: 92, Loss:0.013392\n",
            "Epoch: 93, Loss:0.004100\n",
            "Epoch: 94, Loss:0.004552\n",
            "Epoch: 95, Loss:0.006866\n",
            "Epoch: 96, Loss:0.003860\n",
            "Epoch: 97, Loss:0.006258\n",
            "Epoch: 98, Loss:0.002541\n",
            "Epoch: 99, Loss:0.004317\n"
          ],
          "name": "stdout"
        }
      ]
    },
    {
      "cell_type": "code",
      "metadata": {
        "id": "kqHBThmeVn-C",
        "colab_type": "code",
        "outputId": "0ffbbc71-5519-416b-b32f-ef9ea353a8cf",
        "colab": {
          "base_uri": "https://localhost:8080/",
          "height": 34
        }
      },
      "source": [
        "val_loader = torch.utils.data.DataLoader(validation_set,batch_size=64,shuffle=False)\n",
        "\n",
        "correct = 0\n",
        "total = 0\n",
        "\n",
        "with torch.no_grad():\n",
        "  for imgs,labels in val_loader:\n",
        "    outputs = model(imgs.view(imgs.shape[0],-1))\n",
        "    _, predicted = torch.max(outputs,dim=1)\n",
        "    total+= labels.shape[0]\n",
        "    \n",
        "    correct += int((predicted==labels).sum())\n",
        "    \n",
        "print(\"Accuracy: %f \" % (correct/total))"
      ],
      "execution_count": 24,
      "outputs": [
        {
          "output_type": "stream",
          "text": [
            "Accuracy: 0.873500 \n"
          ],
          "name": "stdout"
        }
      ]
    },
    {
      "cell_type": "code",
      "metadata": {
        "id": "ojwU8U5dWue8",
        "colab_type": "code",
        "outputId": "4d0d4008-08e4-4b79-d48e-1745795c67ff",
        "colab": {
          "base_uri": "https://localhost:8080/",
          "height": 303
        }
      },
      "source": [
        "img, label = validation_set[20]\n",
        "out = model(img.view(-1).unsqueeze(0))\n",
        "\n",
        "_, index = torch.max(out,dim=1)\n",
        "\n",
        "print('->: ',class_names[label],' model: ', class_names[index])\n",
        "plt.imshow(img.permute(1,2,0))\n",
        "plt.show()"
      ],
      "execution_count": 25,
      "outputs": [
        {
          "output_type": "stream",
          "text": [
            "->:  car  model:  car\n"
          ],
          "name": "stdout"
        },
        {
          "output_type": "stream",
          "text": [
            "Clipping input data to the valid range for imshow with RGB data ([0..1] for floats or [0..255] for integers).\n"
          ],
          "name": "stderr"
        },
        {
          "output_type": "display_data",
          "data": {
            "image/png": "[encoded data removed]",
            "text/plain": [
              "<Figure size 432x288 with 1 Axes>"
            ]
          },
          "metadata": {
            "tags": []
          }
        }
      ]
    }
  ]
}